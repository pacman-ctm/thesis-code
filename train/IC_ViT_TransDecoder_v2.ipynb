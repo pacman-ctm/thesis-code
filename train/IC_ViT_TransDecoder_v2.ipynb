{
  "cells": [
    {
      "cell_type": "markdown",
      "metadata": {
        "id": "HChDZSc6hZe0"
      },
      "source": [
        "#Data"
      ]
    },
    {
      "cell_type": "code",
      "execution_count": 1,
      "metadata": {
        "colab": {
          "base_uri": "https://localhost:8080/"
        },
        "id": "Rlpaftr7Upt0",
        "outputId": "58557cbe-9146-4f99-d79b-9257ca22a992"
      },
      "outputs": [
        {
          "output_type": "stream",
          "name": "stdout",
          "text": [
            "Mounted at /content/drive\n"
          ]
        }
      ],
      "source": [
        "from google.colab import drive\n",
        "drive.mount('/content/drive')"
      ]
    },
    {
      "cell_type": "code",
      "execution_count": 2,
      "metadata": {
        "id": "XvMCVGu6VlDE"
      },
      "outputs": [],
      "source": [
        "!mkdir -p /content/drive/MyDrive/IC/ViT"
      ]
    },
    {
      "cell_type": "code",
      "execution_count": 3,
      "metadata": {
        "id": "e7DFPf00Yxii"
      },
      "outputs": [],
      "source": [
        "!pip install transformers > /dev/null"
      ]
    },
    {
      "cell_type": "code",
      "execution_count": 4,
      "metadata": {
        "colab": {
          "base_uri": "https://localhost:8080/"
        },
        "id": "GYAEq4UlhXVt",
        "outputId": "cec70542-0311-49d5-f146-a646c13cfbe9"
      },
      "outputs": [
        {
          "output_type": "stream",
          "name": "stdout",
          "text": [
            "Downloading...\n",
            "From: https://drive.google.com/uc?id=1-xJoBvzwQKgJjPzHb3fq1sFicwyIisx7\n",
            "To: /content/data_v1.zip\n",
            "100% 640M/640M [00:03<00:00, 206MB/s]\n"
          ]
        }
      ],
      "source": [
        "# Tiny dataset\n",
        "# !gdown https://drive.google.com/uc?id=1qYPCnXXxjEcHEg3tLGt3fDkd2ialAgS4\n",
        "\n",
        "# Full dataset with jpeg\n",
        "!gdown https://drive.google.com/uc?id=1-xJoBvzwQKgJjPzHb3fq1sFicwyIisx7\n",
        "\n",
        "# Full dataset without jpeg\n",
        "# !gdown https://drive.google.com/uc?id=1gFSdm8K9SXNPXG9tQWS4bmO_nappN2AL\n",
        "!unzip data_v1.zip -d /content/data > /dev/null"
      ]
    },
    {
      "cell_type": "code",
      "execution_count": 5,
      "metadata": {
        "id": "4_kx__wdBtvW"
      },
      "outputs": [],
      "source": [
        "import json\n",
        "data = json.load(open(\"/content/data/train_data.json\", \"r\"))"
      ]
    },
    {
      "cell_type": "code",
      "execution_count": 6,
      "metadata": {
        "colab": {
          "base_uri": "https://localhost:8080/"
        },
        "id": "m1U5QboMCJ11",
        "outputId": "b91f4866-42a9-4391-eb68-a83b24810c8e"
      },
      "outputs": [
        {
          "output_type": "execute_result",
          "data": {
            "text/plain": [
              "{'id': 0,\n",
              " 'image_id': 2,\n",
              " 'caption': 'ba chiếc thuyền đang di chuyển ở trên con sông',\n",
              " 'segment_caption': 'ba chiếc thuyền đang di_chuyển ở trên con sông'}"
            ]
          },
          "metadata": {},
          "execution_count": 6
        }
      ],
      "source": [
        "data['annotations'][0]"
      ]
    },
    {
      "cell_type": "markdown",
      "metadata": {
        "id": "PXXEvVGCEXdy"
      },
      "source": [
        "#Vocab"
      ]
    },
    {
      "cell_type": "code",
      "execution_count": 7,
      "metadata": {
        "id": "hwEza82NpSv2"
      },
      "outputs": [],
      "source": [
        "import random\n",
        "import numpy as np\n",
        "import torch\n",
        "import os\n",
        "def set_random_seed(seed: int):\n",
        "    random.seed(seed)\n",
        "    np.random.seed(seed)\n",
        "    torch.manual_seed(seed)\n",
        "    torch.cuda.manual_seed(seed)\n",
        "    torch.cuda.manual_seed_all(seed)\n",
        "    os.environ['PYTHONHASHSEED'] = str(seed)\n",
        "set_random_seed(10)"
      ]
    },
    {
      "cell_type": "code",
      "execution_count": 8,
      "metadata": {
        "id": "RhEj46m3EXT8"
      },
      "outputs": [],
      "source": [
        "from collections import Counter\n",
        "import itertools\n",
        "from itertools import count\n",
        "\n",
        "class IMCP_Vocab():\n",
        "  def __init__(self, texts) -> None:\n",
        "    words = list(itertools.chain(*[text.split(\" \") for text in texts]))\n",
        "    counter = Counter(words)\n",
        "    self.vocab = {key: i for i, key in zip(count(start = 4), counter.keys())}\n",
        "    self.special_ids = [0, 1, 2, 3]\n",
        "    self.max_seq_len = 256\n",
        "    self.counter = counter\n",
        "    self.special_tokens = [\"<unk>\", \"<pad>\", \"<bos>\", \"<eos>\"]\n",
        "    for id, token in zip(self.special_ids, self.special_tokens):\n",
        "      self.vocab[token] = id\n",
        "    self.vocab = {k: v for k, v in sorted(self.vocab.items(), key=lambda x:x[1])}\n",
        "    self.id2word = {v: k for k, v in self.vocab.items()}\n",
        "    \n",
        "    self.bos_token = \"<bos>\"\n",
        "    self.eos_token = \"<eos>\"\n",
        "    self.pad_token = \"<pad>\"\n",
        "    self.unk_token = \"<unk>\"\n",
        "    \n",
        "  def get_vocab(self):\n",
        "    return self.vocab\n",
        "\n",
        "  def get_vocab_dump(self):\n",
        "    vocab = dict()\n",
        "    vocab['itos'] = list(vocab.keys())\n",
        "    vocab['stoi'] = self.vocab\n",
        "    vocab['freqs'] = dict(self.counter)\n",
        "    return vocab\n",
        "  \n",
        "  def batch_decode(self, predictions_ids):\n",
        "    preds = []\n",
        "    for seq in predictions_ids:\n",
        "        preds.append(\" \".join([self.id2word[id] for id in seq if id not in [0,1,2,3,4,5]]))\n",
        "    return preds"
      ]
    },
    {
      "cell_type": "markdown",
      "metadata": {
        "id": "RuOXhFHpicmZ"
      },
      "source": [
        "# Dataset"
      ]
    },
    {
      "cell_type": "code",
      "execution_count": 9,
      "metadata": {
        "id": "QgcYI1_oh3x7"
      },
      "outputs": [],
      "source": [
        "import torch\n",
        "from torch.utils.data import DataLoader, Dataset\n",
        "from PIL import Image\n",
        "import json\n",
        "import os\n",
        "\n",
        "class IMCP_Dataset(Dataset):\n",
        "  def __init__(self, image_path = \"/content/data/train-images\", summary_path = \"/content/data/train_data.json\"):\n",
        "    super().__init__()\n",
        "    self.data = json.load(open(summary_path, \"r\"))\n",
        "    self.image_path = image_path\n",
        "    self.vocab = IMCP_Vocab(texts = [ann['segment_caption'] for ann in self.data['annotations']])\n",
        "    self.imgid2imgname = {entry['id']: entry['filename'] for entry in self.data['images']}\n",
        "\n",
        "  def __len__(self):\n",
        "    return len(self.data['annotations'])\n",
        "\n",
        "  def __getitem__(self, index):\n",
        "    annotation = self.data['annotations'][index]\n",
        "    image_id = annotation['image_id']\n",
        "    # images = self.data['images'][index]\n",
        "    # image_id = images['id']\n",
        "    image_name = self.imgid2imgname[image_id]\n",
        "    image = Image.open(os.path.join(self.image_path, image_name)).convert('RGB')\n",
        "    caption = annotation['segment_caption']\n",
        "    return image, caption"
      ]
    },
    {
      "cell_type": "code",
      "execution_count": 10,
      "metadata": {
        "id": "kColNhWzo1vb"
      },
      "outputs": [],
      "source": [
        "# class IMCP_Test_Dataset(Dataset):\n",
        "#   def __init__(self, image_path = \"/content/data/public-test-images\", summary_path = \"/content/data/test_data.json\"):\n",
        "#     super().__init__()\n",
        "#     self.data = json.load(open(summary_path, \"r\"))\n",
        "#     self.image_path = image_path\n",
        "#     self.imgid2imgname = {entry['id']: entry['filename'] for entry in self.data['images']}\n",
        "\n",
        "#   def __len__(self):\n",
        "#     return len(self.data['images'])\n",
        "\n",
        "#   def __getitem__(self, index):\n",
        "#     entry = self.data['images'][index]\n",
        "#     image_id = entry['id']\n",
        "#     image_name = entry['filename']\n",
        "#     image = Image.open(os.path.join(self.image_path, image_name)).convert('RGB')\n",
        "#     caption = [self.data['annotations'][i]['segment_caption'] for i in range(len(self.data['annotations'])) if self.data['annotations'][i]['image_id'] == image_id]\n",
        "#     return image, caption, image_id"
      ]
    },
    {
      "cell_type": "code",
      "execution_count": 11,
      "metadata": {
        "id": "zZ0iUzSHGzf0"
      },
      "outputs": [],
      "source": [
        "train_dataset = IMCP_Dataset()\n",
        "vocab = train_dataset.vocab\n",
        "train_dataset, valid_dataset = torch.utils.data.random_split(train_dataset, [0.9, 0.1])\n",
        "# test_dataset = IMCP_Test_Dataset()"
      ]
    },
    {
      "cell_type": "code",
      "execution_count": 12,
      "metadata": {
        "id": "C9l5rzPQVhkD"
      },
      "outputs": [],
      "source": [
        "# Save vocab to file\n",
        "with open(\"/content/drive/MyDrive/IC/ViT/vocab.json\", 'w+') as file:\n",
        "  json.dump(vocab.get_vocab_dump(), file, ensure_ascii = False)"
      ]
    },
    {
      "cell_type": "code",
      "execution_count": 13,
      "metadata": {
        "id": "FQqkd0ujbL3x"
      },
      "outputs": [],
      "source": [
        "device = \"cuda\" if torch.cuda.is_available() else \"cpu\""
      ]
    },
    {
      "cell_type": "markdown",
      "metadata": {
        "id": "TM6PRtmcJXqj"
      },
      "source": [
        "# Collator"
      ]
    },
    {
      "cell_type": "code",
      "execution_count": 14,
      "metadata": {
        "id": "S0kofjwdJY1H"
      },
      "outputs": [],
      "source": [
        "from torch.nn.utils.rnn import pad_sequence\n",
        "import torchvision.transforms as transforms\n",
        "\n",
        "class IMCP_Collator:\n",
        "  def __init__(self, vocab, train = True):\n",
        "    self.vocab = vocab\n",
        "    self.bos_id = self.vocab.get_vocab()['<bos>']\n",
        "    self.eos_id = self.vocab.get_vocab()['<eos>']\n",
        "    self.pad_id = self.vocab.get_vocab()['<pad>']\n",
        "    self.train = train\n",
        "\n",
        "  def tokenize_texts(self, captions):\n",
        "    raw_captions = [caption.split(\" \") for caption in captions]\n",
        "    truncated_captions = [s[:self.vocab.max_seq_len] for s in raw_captions]\n",
        "    max_len = max([len(c) for c in truncated_captions])\n",
        "\n",
        "    padded_captions = []\n",
        "    for c in truncated_captions:\n",
        "        c = [self.vocab.get_vocab()[word] for word in c]\n",
        "        seq = [self.bos_id] + c + [self.eos_id] + [self.pad_id] * (max_len - len(c))\n",
        "        padded_captions.append(seq)\n",
        "\n",
        "    padded_captions = [torch.Tensor(seq).long() for seq in padded_captions]\n",
        "    padded_captions = pad_sequence(padded_captions, batch_first=True)\n",
        "    return padded_captions\n",
        "  \n",
        "  def resize_and_stack(self, images):\n",
        "    image_tensors = []\n",
        "    transform = transforms.Compose([\n",
        "        transforms.Resize((224, 224)),\n",
        "        transforms.ToTensor(),\n",
        "    ])\n",
        "    \n",
        "    for image in images:\n",
        "      img_tensor = transform(image)\n",
        "      image.close()\n",
        "      image_tensors.append(img_tensor)\n",
        "      \n",
        "    stacked = torch.stack(image_tensors)\n",
        "    return stacked\n",
        "\n",
        "  def __call__(self, batch):\n",
        "    if self.train:\n",
        "      images = [example[0] for example in batch]\n",
        "      captions = [example[1] for example in batch]\n",
        "      return self.resize_and_stack(images), self.tokenize_texts(captions)\n",
        "    else:\n",
        "      images = [example[0] for example in batch]\n",
        "      captions = [example[1] for example in batch]\n",
        "      image_ids = [example[2] for example in batch]\n",
        "      return self.resize_and_stack(images), captions, image_ids\n",
        "    "
      ]
    },
    {
      "cell_type": "code",
      "execution_count": 15,
      "metadata": {
        "id": "cZrPU1ztRh8K"
      },
      "outputs": [],
      "source": [
        "collator = IMCP_Collator(vocab, train = True)\n",
        "# collatorTest = IMCP_Collator(vocab, train = False, model = \"resnet101\")"
      ]
    },
    {
      "cell_type": "markdown",
      "metadata": {
        "id": "bPJbo7ZCSGcj"
      },
      "source": [
        "# DataLoader"
      ]
    },
    {
      "cell_type": "code",
      "execution_count": 16,
      "metadata": {
        "id": "beelDREDSD3x"
      },
      "outputs": [],
      "source": [
        "train_dataloader = DataLoader(train_dataset, batch_size = 16, collate_fn = collator)\n",
        "valid_dataloader = DataLoader(valid_dataset, batch_size = 16, collate_fn = collator, shuffle = False)\n",
        "# test_dataloader = DataLoader(test_dataset, batch_size = 16, collate_fn = collatorTest, shuffle = False)"
      ]
    },
    {
      "cell_type": "code",
      "execution_count": 17,
      "metadata": {
        "colab": {
          "base_uri": "https://localhost:8080/"
        },
        "id": "Ikw0FuVuSU6K",
        "outputId": "57ee6320-1d5a-4d0f-9bcb-e89b9fb6efa8"
      },
      "outputs": [
        {
          "output_type": "stream",
          "name": "stdout",
          "text": [
            "torch.Size([16, 3, 224, 224])\n",
            "tensor([[   2,   13,   33,   21,    7,  441, 1713,  830,  799,   37,  482,    3,\n",
            "            1,    1,    1],\n",
            "        [   2,   13,    4,  675,   11,  853,   40,    9,   37,  240,  362,    3,\n",
            "            1,    1,    1],\n",
            "        [   2,   13,   16,  171,  341,  610,   98,  211,    9,   15,  155,   28,\n",
            "          311,  239,    3],\n",
            "        [   2,   13,   21,   22,  162,  163,  214,    7,  409,   89,    3,    1,\n",
            "            1,    1,    1],\n",
            "        [   2,    9,   10,  105,   13,   46,   40,   28,   16,  952,  239,  643,\n",
            "            3,    1,    1],\n",
            "        [   2,   16,   21,   58,    7,  407,  408,    9,   37,  103,  223,    3,\n",
            "            1,    1,    1],\n",
            "        [   2,   15,  130,    5,  586,   98,  181,   77,    5,  586,   98,  218,\n",
            "          181,    3,    1],\n",
            "        [   2,   13,   33,  377,  320,  101,  255,   15,   37,  166,   51,    3,\n",
            "            1,    1,    1],\n",
            "        [   2,  381,  352,  125,  126,   99,  303,  139,   80,    4,   21,    3,\n",
            "            1,    1,    1],\n",
            "        [   2,   16,   21,   22,  306,  307,    7,   88,   34,   50,  122,    3,\n",
            "            1,    1,    1],\n",
            "        [   2,   13,   16,   71,  235,  610,   98,  211,   40,    9,   37,  103,\n",
            "          223,    3,    1],\n",
            "        [   2,   13,   33,   21,    7,   40,    9,   15,   37,   28,   41,   42,\n",
            "          129,    3,    1],\n",
            "        [   2,   13,   16,   17,  235,   80, 1387,  205,   40,   37,  332,  266,\n",
            "            3,    1,    1],\n",
            "        [   2,  158,  159,    7,   52,  222,  223,    9,   36,   71, 1672,   28,\n",
            "         1674, 1675,    3],\n",
            "        [   2,   13,   16,   21,    7,   48,   15,   31,  377,  171,   34,  146,\n",
            "          169,  375,    3],\n",
            "        [   2,   21,   22,    7, 1889,   16,   71, 1549,   98,  127,   10,   67,\n",
            "            3,    1,    1]])\n"
          ]
        }
      ],
      "source": [
        "for images, captions in train_dataloader:\n",
        "  print(images.shape)\n",
        "  print(captions)\n",
        "  break"
      ]
    },
    {
      "cell_type": "markdown",
      "metadata": {
        "id": "d7RmhCUlOina"
      },
      "source": [
        "#Model"
      ]
    },
    {
      "cell_type": "code",
      "execution_count": 18,
      "metadata": {
        "id": "ootLfwdY0j5Q"
      },
      "outputs": [],
      "source": [
        "config = {\n",
        "  \"activation_dropout\": 0.0,\n",
        "  \"activation_function\": \"gelu\",\n",
        "  \"architectures\": [\n",
        "    \"MBartModel\"\n",
        "  ],\n",
        "  \"attention_dropout\": 0.0,\n",
        "  \"bos_token_id\": 0,\n",
        "  \"classifier_dropout\": 0.0,\n",
        "  \"d_model\": 512,\n",
        "  \"decoder_attention_heads\": 8,\n",
        "  \"decoder_ffn_dim\": 2048,\n",
        "  \"decoder_layerdrop\": 0.0,\n",
        "  \"decoder_layers\": 2,\n",
        "  \"decoder_start_token_id\": 1,\n",
        "  \"dropout\": 0.1,\n",
        "  \"encoder_attention_heads\": 8,\n",
        "  \"encoder_ffn_dim\": 2048,\n",
        "  \"encoder_layerdrop\": 0.0,\n",
        "  \"encoder_layers\": 2,\n",
        "  \"eos_token_id\": 1,\n",
        "  \"forced_eos_token_id\": 1,\n",
        "  \"gradient_checkpointing\": False,\n",
        "  \"init_std\": 0.02,\n",
        "  \"is_encoder_decoder\": True,\n",
        "  \"max_position_embeddings\": 256,\n",
        "  \"model_type\": \"mbart\",\n",
        "  \"num_hidden_layers\": 2,\n",
        "  \"pad_token_id\": 2,\n",
        "  \"scale_embedding\": False,\n",
        "  \"torch_dtype\": \"float32\",\n",
        "  \"transformers_version\": \"4.10.2\",\n",
        "  \"use_cache\": True,\n",
        "  \"vocab_size\": len(vocab.get_vocab()) + 5\n",
        "}"
      ]
    },
    {
      "cell_type": "code",
      "execution_count": 19,
      "metadata": {
        "colab": {
          "base_uri": "https://localhost:8080/",
          "height": 1000,
          "referenced_widgets": [
            "28a3522d324341d6a428c117d1dffec1",
            "4271300bfe4540879ef13b4f20086a22",
            "6cfd113a9a184ff3a699771c354fbaf3",
            "6067864c4c5a409b875dfcefbb206f1a",
            "7f2f4583a99b4ebeb3743dbe8b7a8986",
            "b8b673e359b647f4830288f9ab7e429f",
            "e09a9b2d93ee42da911737ea239cff78",
            "11d84e2c9f474d0eae702b8f1231f136",
            "4a5cb240ef474381a38cd620af74077a",
            "dbafb67eb1c6410cb2c74d98943030de",
            "5d8d040d39dd4db3aacdee1e9ba48705",
            "754ec321d0a94434aa8600997cad7c61",
            "637765c920e44c2c9cdcba2eb6664704",
            "7ad37a9eb3c049358e0f455dbcdbcf5c",
            "224868713f6c40d6a6b61e15011e2cb3",
            "7cd6d97e925b4e5c85e1d996cc8c9a9c",
            "dbec3afdd71f411c819875411de3d33a",
            "034761131b414908a77f6f825a0d8bda",
            "af7d6b3d48df4c7fb114cdc5db541d07",
            "c7aadff240d14310abe67c2393f7fc25",
            "6ff712196a734771a8c5c3649ae68dc9",
            "cec7ec6916344ba8b72a3377bec5284c"
          ]
        },
        "id": "RZSQUdsXXhVM",
        "outputId": "02a12255-955b-4595-ea88-c15b7d587dd5"
      },
      "outputs": [
        {
          "output_type": "display_data",
          "data": {
            "text/plain": [
              "Downloading (…)lve/main/config.json:   0%|          | 0.00/69.7k [00:00<?, ?B/s]"
            ],
            "application/vnd.jupyter.widget-view+json": {
              "version_major": 2,
              "version_minor": 0,
              "model_id": "28a3522d324341d6a428c117d1dffec1"
            }
          },
          "metadata": {}
        },
        {
          "output_type": "display_data",
          "data": {
            "text/plain": [
              "Downloading pytorch_model.bin:   0%|          | 0.00/346M [00:00<?, ?B/s]"
            ],
            "application/vnd.jupyter.widget-view+json": {
              "version_major": 2,
              "version_minor": 0,
              "model_id": "754ec321d0a94434aa8600997cad7c61"
            }
          },
          "metadata": {}
        },
        {
          "output_type": "stream",
          "name": "stderr",
          "text": [
            "Some weights of the model checkpoint at google/vit-base-patch16-224 were not used when initializing ViTModel: ['classifier.weight', 'classifier.bias']\n",
            "- This IS expected if you are initializing ViTModel from the checkpoint of a model trained on another task or with another architecture (e.g. initializing a BertForSequenceClassification model from a BertForPreTraining model).\n",
            "- This IS NOT expected if you are initializing ViTModel from the checkpoint of a model that you expect to be exactly identical (initializing a BertForSequenceClassification model from a BertForSequenceClassification model).\n",
            "Some weights of ViTModel were not initialized from the model checkpoint at google/vit-base-patch16-224 and are newly initialized: ['vit.pooler.dense.weight', 'vit.pooler.dense.bias']\n",
            "You should probably TRAIN this model on a down-stream task to be able to use it for predictions and inference.\n"
          ]
        },
        {
          "output_type": "stream",
          "name": "stdout",
          "text": [
            "Start Epoch 0\n",
            "Epoch [1/8], Step [1/1061], LR [0.00000047], Loss: 7.6281\n",
            "Epoch [1/8], Step [101/1061], LR [0.00004760], Loss: 4.4379\n",
            "Epoch [1/8], Step [201/1061], LR [0.00009472], Loss: 3.0580\n",
            "Epoch [1/8], Step [301/1061], LR [0.00014185], Loss: 2.1143\n",
            "Epoch [1/8], Step [401/1061], LR [0.00018897], Loss: 1.9737\n",
            "Epoch [1/8], Step [501/1061], LR [0.00023610], Loss: 2.0824\n",
            "Epoch [1/8], Step [601/1061], LR [0.00028322], Loss: 1.6413\n",
            "Epoch [1/8], Step [701/1061], LR [0.00033035], Loss: 1.6595\n",
            "Epoch [1/8], Step [801/1061], LR [0.00037747], Loss: 1.7640\n",
            "Epoch [1/8], Step [901/1061], LR [0.00039995], Loss: 1.4516\n",
            "Epoch [1/8], Step [1001/1061], LR [0.00039961], Loss: 1.1891\n",
            "Epoch [1/8], Valid Loss: 1.5061\n",
            "Start Epoch 1\n",
            "Epoch [2/8], Step [1/1061], LR [0.00039923], Loss: 2.0127\n",
            "Epoch [2/8], Step [101/1061], LR [0.00039834], Loss: 1.5428\n",
            "Epoch [2/8], Step [201/1061], LR [0.00039712], Loss: 1.4295\n",
            "Epoch [2/8], Step [301/1061], LR [0.00039556], Loss: 1.2808\n",
            "Epoch [2/8], Step [401/1061], LR [0.00039367], Loss: 1.2695\n",
            "Epoch [2/8], Step [501/1061], LR [0.00039146], Loss: 1.4550\n",
            "Epoch [2/8], Step [601/1061], LR [0.00038892], Loss: 1.1453\n",
            "Epoch [2/8], Step [701/1061], LR [0.00038606], Loss: 1.3063\n",
            "Epoch [2/8], Step [801/1061], LR [0.00038289], Loss: 1.3063\n",
            "Epoch [2/8], Step [901/1061], LR [0.00037941], Loss: 1.1610\n",
            "Epoch [2/8], Step [1001/1061], LR [0.00037562], Loss: 0.9560\n",
            "Epoch [2/8], Valid Loss: 1.3019\n",
            "Start Epoch 2\n",
            "Epoch [3/8], Step [1/1061], LR [0.00037316], Loss: 1.6505\n",
            "Epoch [3/8], Step [101/1061], LR [0.00036890], Loss: 1.2657\n",
            "Epoch [3/8], Step [201/1061], LR [0.00036436], Loss: 1.1896\n",
            "Epoch [3/8], Step [301/1061], LR [0.00035953], Loss: 1.0959\n",
            "Epoch [3/8], Step [401/1061], LR [0.00035444], Loss: 1.0268\n",
            "Epoch [3/8], Step [501/1061], LR [0.00034908], Loss: 1.1677\n",
            "Epoch [3/8], Step [601/1061], LR [0.00034348], Loss: 0.9552\n",
            "Epoch [3/8], Step [701/1061], LR [0.00033763], Loss: 1.0851\n",
            "Epoch [3/8], Step [801/1061], LR [0.00033154], Loss: 1.0575\n",
            "Epoch [3/8], Step [901/1061], LR [0.00032524], Loss: 0.9529\n",
            "Epoch [3/8], Step [1001/1061], LR [0.00031872], Loss: 0.7949\n",
            "Epoch [3/8], Valid Loss: 1.2174\n",
            "Start Epoch 3\n",
            "Epoch [4/8], Step [1/1061], LR [0.00031465], Loss: 1.3930\n",
            "Epoch [4/8], Step [101/1061], LR [0.00030781], Loss: 1.0812\n",
            "Epoch [4/8], Step [201/1061], LR [0.00030080], Loss: 0.9989\n",
            "Epoch [4/8], Step [301/1061], LR [0.00029361], Loss: 0.9478\n",
            "Epoch [4/8], Step [401/1061], LR [0.00028626], Loss: 0.8342\n",
            "Epoch [4/8], Step [501/1061], LR [0.00027877], Loss: 1.0153\n",
            "Epoch [4/8], Step [601/1061], LR [0.00027115], Loss: 0.7736\n",
            "Epoch [4/8], Step [701/1061], LR [0.00026340], Loss: 0.9249\n",
            "Epoch [4/8], Step [801/1061], LR [0.00025555], Loss: 0.9194\n",
            "Epoch [4/8], Step [901/1061], LR [0.00024761], Loss: 0.7708\n",
            "Epoch [4/8], Step [1001/1061], LR [0.00023958], Loss: 0.6533\n",
            "Epoch [4/8], Valid Loss: 1.1601\n",
            "Start Epoch 4\n",
            "Epoch [5/8], Step [1/1061], LR [0.00023465], Loss: 1.1274\n",
            "Epoch [5/8], Step [101/1061], LR [0.00022652], Loss: 0.9153\n",
            "Epoch [5/8], Step [201/1061], LR [0.00021835], Loss: 0.8607\n",
            "Epoch [5/8], Step [301/1061], LR [0.00021015], Loss: 0.8003\n",
            "Epoch [5/8], Step [401/1061], LR [0.00020192], Loss: 0.7110\n",
            "Epoch [5/8], Step [501/1061], LR [0.00019370], Loss: 0.8382\n",
            "Epoch [5/8], Step [601/1061], LR [0.00018549], Loss: 0.6956\n",
            "Epoch [5/8], Step [701/1061], LR [0.00017730], Loss: 0.7675\n",
            "Epoch [5/8], Step [801/1061], LR [0.00016915], Loss: 0.7381\n",
            "Epoch [5/8], Step [901/1061], LR [0.00016105], Loss: 0.6607\n",
            "Epoch [5/8], Step [1001/1061], LR [0.00015302], Loss: 0.5917\n",
            "Epoch [5/8], Valid Loss: 1.1249\n",
            "Start Epoch 5\n",
            "Epoch [6/8], Step [1/1061], LR [0.00014816], Loss: 0.8942\n",
            "Epoch [6/8], Step [101/1061], LR [0.00014026], Loss: 0.7646\n",
            "Epoch [6/8], Step [201/1061], LR [0.00013246], Loss: 0.7219\n",
            "Epoch [6/8], Step [301/1061], LR [0.00012478], Loss: 0.6366\n",
            "Epoch [6/8], Step [401/1061], LR [0.00011722], Loss: 0.5707\n",
            "Epoch [6/8], Step [501/1061], LR [0.00010981], Loss: 0.6584\n",
            "Epoch [6/8], Step [601/1061], LR [0.00010255], Loss: 0.5393\n",
            "Epoch [6/8], Step [701/1061], LR [0.00009545], Loss: 0.6523\n",
            "Epoch [6/8], Step [801/1061], LR [0.00008853], Loss: 0.6461\n",
            "Epoch [6/8], Step [901/1061], LR [0.00008179], Loss: 0.5310\n",
            "Epoch [6/8], Step [1001/1061], LR [0.00007526], Loss: 0.5463\n",
            "Epoch [6/8], Valid Loss: 1.1052\n",
            "Start Epoch 6\n",
            "Epoch [7/8], Step [1/1061], LR [0.00007138], Loss: 0.7715\n",
            "Epoch [7/8], Step [101/1061], LR [0.00006519], Loss: 0.6478\n",
            "Epoch [7/8], Step [201/1061], LR [0.00005923], Loss: 0.5730\n",
            "Epoch [7/8], Step [301/1061], LR [0.00005351], Loss: 0.5505\n",
            "Epoch [7/8], Step [401/1061], LR [0.00004804], Loss: 0.4909\n",
            "Epoch [7/8], Step [501/1061], LR [0.00004282], Loss: 0.5560\n",
            "Epoch [7/8], Step [601/1061], LR [0.00003787], Loss: 0.4716\n",
            "Epoch [7/8], Step [701/1061], LR [0.00003319], Loss: 0.5846\n",
            "Epoch [7/8], Step [801/1061], LR [0.00002879], Loss: 0.5702\n",
            "Epoch [7/8], Step [901/1061], LR [0.00002469], Loss: 0.4699\n",
            "Epoch [7/8], Step [1001/1061], LR [0.00002088], Loss: 0.4992\n",
            "Epoch [7/8], Valid Loss: 1.0908\n",
            "Start Epoch 7\n",
            "Epoch [8/8], Step [1/1061], LR [0.00001870], Loss: 0.6769\n",
            "Epoch [8/8], Step [101/1061], LR [0.00001539], Loss: 0.5744\n",
            "Epoch [8/8], Step [201/1061], LR [0.00001238], Loss: 0.5215\n",
            "Epoch [8/8], Step [301/1061], LR [0.00000969], Loss: 0.5078\n",
            "Epoch [8/8], Step [401/1061], LR [0.00000732], Loss: 0.4523\n",
            "Epoch [8/8], Step [501/1061], LR [0.00000528], Loss: 0.5205\n",
            "Epoch [8/8], Step [601/1061], LR [0.00000357], Loss: 0.4420\n",
            "Epoch [8/8], Step [701/1061], LR [0.00000219], Loss: 0.5332\n",
            "Epoch [8/8], Step [801/1061], LR [0.00000114], Loss: 0.5212\n",
            "Epoch [8/8], Step [901/1061], LR [0.00000043], Loss: 0.4783\n",
            "Epoch [8/8], Step [1001/1061], LR [0.00000006], Loss: 0.4780\n",
            "Epoch [8/8], Valid Loss: 1.0924\n"
          ]
        }
      ],
      "source": [
        "import torch\n",
        "import torch.nn as nn\n",
        "import torchvision.transforms as transforms\n",
        "from torch.utils.data import DataLoader\n",
        "from torch.optim import Adam\n",
        "from torch.nn.utils.rnn import pack_padded_sequence\n",
        "\n",
        "from transformers import ViTModel, get_cosine_schedule_with_warmup\n",
        "from transformers import BartForConditionalGeneration, BartConfig\n",
        "\n",
        "# Check if GPU is available\n",
        "device = torch.device('cuda' if torch.cuda.is_available() else 'cpu')\n",
        "\n",
        "# Define Vision Transformer encoder\n",
        "class Encoder(nn.Module):\n",
        "    def __init__(self, embed_size):\n",
        "        super(Encoder, self).__init__()\n",
        "        self.vit = ViTModel.from_pretrained('google/vit-base-patch16-224')\n",
        "        self.linear = nn.Linear(self.vit.config.hidden_size, embed_size)\n",
        "        self.relu = nn.ReLU()\n",
        "        self.dropout = nn.Dropout(0.5)\n",
        "    \n",
        "    def forward(self, images):\n",
        "        with torch.no_grad():\n",
        "            features = self.vit(images)\n",
        "        features = self.linear(features.last_hidden_state)\n",
        "        features = self.relu(features)\n",
        "        features = self.dropout(features)\n",
        "        return features\n",
        "\n",
        "# Define Transformer decoder\n",
        "class Decoder(nn.Module):\n",
        "    def __init__(self, max_seq_length):\n",
        "        super(Decoder, self).__init__()\n",
        "        self.config = BartConfig(**config)\n",
        "        self.decoder = BartForConditionalGeneration(self.config)\n",
        "        self.max_seq_length = max_seq_length\n",
        "    \n",
        "    def forward(self, features, captions):\n",
        "        outputs = self.decoder(\n",
        "            encoder_outputs = [features], ## Use [] instead of () Important!\n",
        "            labels = captions)\n",
        "        return outputs\n",
        "\n",
        "    def generate(self, features, max_length = 50):\n",
        "        model_kwargs = {\n",
        "            \"encoder_outputs\": [features], ## Use [] instead of () Important!\n",
        "        }\n",
        "        input_ids = torch.ones((len(features), 1), device=device, dtype=torch.long)\n",
        "        input_ids = input_ids * 1\n",
        "        output = self.decoder.generate(input_ids, num_beams=1, max_new_tokens = max_length, **model_kwargs)\n",
        "        return output\n",
        "\n",
        "\n",
        "# Define hyperparameters\n",
        "vocab_size = len(collator.vocab.get_vocab()) + 5\n",
        "embed_size = 512\n",
        "max_seq_length = 30\n",
        "learning_rate = 0.0004\n",
        "num_epochs = 8\n",
        "total_step = len(train_dataloader) * num_epochs\n",
        "\n",
        "# Initialize encoder and decoder\n",
        "encoder = Encoder(embed_size).to(device)\n",
        "decoder = Decoder(max_seq_length).to(device)\n",
        "\n",
        "# Define loss function and optimizer\n",
        "params = list(encoder.parameters()) + list(decoder.parameters())\n",
        "optimizer = Adam(params, lr=learning_rate)\n",
        "lr_scheduler = get_cosine_schedule_with_warmup(optimizer, num_warmup_steps = 0.1 * total_step, num_training_steps = total_step)\n",
        "\n",
        "# Train the model\n",
        "for epoch in range(num_epochs):\n",
        "    print(f\"Start Epoch {epoch}\")\n",
        "    for i, (images, captions) in enumerate(train_dataloader):\n",
        "        # Move data to GPU\n",
        "        images = images.to(device)\n",
        "        captions = captions.to(device)\n",
        "        \n",
        "        # Forward pass\n",
        "        features = encoder(images)\n",
        "        outputs = decoder(features, captions)\n",
        "        loss = outputs.loss\n",
        "        \n",
        "        # Backward pass and optimization\n",
        "        optimizer.zero_grad()\n",
        "        loss.backward()\n",
        "        optimizer.step()\n",
        "        lr_scheduler.step()\n",
        "        \n",
        "        # Print loss\n",
        "        if i % 100 == 0:\n",
        "            print('Epoch [{}/{}], Step [{}/{}], LR [{:.8f}], Loss: {:.4f}'.format(epoch+1, num_epochs, i+1, len(train_dataloader), lr_scheduler.get_last_lr()[0] ,loss.item()))\n",
        "    # Validate\n",
        "    with torch.no_grad():\n",
        "        valid_loss = []\n",
        "        for i, (images, captions) in enumerate(valid_dataloader):\n",
        "        # Move data to GPU\n",
        "            images = images.to(device)\n",
        "            captions = captions.to(device)\n",
        "            # Forward pass\n",
        "            features = encoder(images)\n",
        "            outputs = decoder(features, captions)\n",
        "            loss = outputs.loss\n",
        "            valid_loss.append(loss.item())\n",
        "        \n",
        "        print('Epoch [{}/{}], Valid Loss: {:.4f}'.format(epoch+1, num_epochs, np.mean(valid_loss)))"
      ]
    },
    {
      "cell_type": "code",
      "execution_count": 20,
      "metadata": {
        "id": "8ohrPGcEz9VX"
      },
      "outputs": [],
      "source": [
        "torch.save(encoder.state_dict(), '/content/drive/MyDrive/IC/ViT/encoder.pth')\n",
        "torch.save(decoder.state_dict(), '/content/drive/MyDrive/IC/ViT/decoder.pth')"
      ]
    }
  ],
  "metadata": {
    "accelerator": "GPU",
    "colab": {
      "provenance": []
    },
    "gpuClass": "standard",
    "kernelspec": {
      "display_name": "Python 3",
      "name": "python3"
    },
    "language_info": {
      "name": "python"
    },
    "widgets": {
      "application/vnd.jupyter.widget-state+json": {
        "28a3522d324341d6a428c117d1dffec1": {
          "model_module": "@jupyter-widgets/controls",
          "model_name": "HBoxModel",
          "model_module_version": "1.5.0",
          "state": {
            "_dom_classes": [],
            "_model_module": "@jupyter-widgets/controls",
            "_model_module_version": "1.5.0",
            "_model_name": "HBoxModel",
            "_view_count": null,
            "_view_module": "@jupyter-widgets/controls",
            "_view_module_version": "1.5.0",
            "_view_name": "HBoxView",
            "box_style": "",
            "children": [
              "IPY_MODEL_4271300bfe4540879ef13b4f20086a22",
              "IPY_MODEL_6cfd113a9a184ff3a699771c354fbaf3",
              "IPY_MODEL_6067864c4c5a409b875dfcefbb206f1a"
            ],
            "layout": "IPY_MODEL_7f2f4583a99b4ebeb3743dbe8b7a8986"
          }
        },
        "4271300bfe4540879ef13b4f20086a22": {
          "model_module": "@jupyter-widgets/controls",
          "model_name": "HTMLModel",
          "model_module_version": "1.5.0",
          "state": {
            "_dom_classes": [],
            "_model_module": "@jupyter-widgets/controls",
            "_model_module_version": "1.5.0",
            "_model_name": "HTMLModel",
            "_view_count": null,
            "_view_module": "@jupyter-widgets/controls",
            "_view_module_version": "1.5.0",
            "_view_name": "HTMLView",
            "description": "",
            "description_tooltip": null,
            "layout": "IPY_MODEL_b8b673e359b647f4830288f9ab7e429f",
            "placeholder": "​",
            "style": "IPY_MODEL_e09a9b2d93ee42da911737ea239cff78",
            "value": "Downloading (…)lve/main/config.json: 100%"
          }
        },
        "6cfd113a9a184ff3a699771c354fbaf3": {
          "model_module": "@jupyter-widgets/controls",
          "model_name": "FloatProgressModel",
          "model_module_version": "1.5.0",
          "state": {
            "_dom_classes": [],
            "_model_module": "@jupyter-widgets/controls",
            "_model_module_version": "1.5.0",
            "_model_name": "FloatProgressModel",
            "_view_count": null,
            "_view_module": "@jupyter-widgets/controls",
            "_view_module_version": "1.5.0",
            "_view_name": "ProgressView",
            "bar_style": "success",
            "description": "",
            "description_tooltip": null,
            "layout": "IPY_MODEL_11d84e2c9f474d0eae702b8f1231f136",
            "max": 69665,
            "min": 0,
            "orientation": "horizontal",
            "style": "IPY_MODEL_4a5cb240ef474381a38cd620af74077a",
            "value": 69665
          }
        },
        "6067864c4c5a409b875dfcefbb206f1a": {
          "model_module": "@jupyter-widgets/controls",
          "model_name": "HTMLModel",
          "model_module_version": "1.5.0",
          "state": {
            "_dom_classes": [],
            "_model_module": "@jupyter-widgets/controls",
            "_model_module_version": "1.5.0",
            "_model_name": "HTMLModel",
            "_view_count": null,
            "_view_module": "@jupyter-widgets/controls",
            "_view_module_version": "1.5.0",
            "_view_name": "HTMLView",
            "description": "",
            "description_tooltip": null,
            "layout": "IPY_MODEL_dbafb67eb1c6410cb2c74d98943030de",
            "placeholder": "​",
            "style": "IPY_MODEL_5d8d040d39dd4db3aacdee1e9ba48705",
            "value": " 69.7k/69.7k [00:00&lt;00:00, 2.92MB/s]"
          }
        },
        "7f2f4583a99b4ebeb3743dbe8b7a8986": {
          "model_module": "@jupyter-widgets/base",
          "model_name": "LayoutModel",
          "model_module_version": "1.2.0",
          "state": {
            "_model_module": "@jupyter-widgets/base",
            "_model_module_version": "1.2.0",
            "_model_name": "LayoutModel",
            "_view_count": null,
            "_view_module": "@jupyter-widgets/base",
            "_view_module_version": "1.2.0",
            "_view_name": "LayoutView",
            "align_content": null,
            "align_items": null,
            "align_self": null,
            "border": null,
            "bottom": null,
            "display": null,
            "flex": null,
            "flex_flow": null,
            "grid_area": null,
            "grid_auto_columns": null,
            "grid_auto_flow": null,
            "grid_auto_rows": null,
            "grid_column": null,
            "grid_gap": null,
            "grid_row": null,
            "grid_template_areas": null,
            "grid_template_columns": null,
            "grid_template_rows": null,
            "height": null,
            "justify_content": null,
            "justify_items": null,
            "left": null,
            "margin": null,
            "max_height": null,
            "max_width": null,
            "min_height": null,
            "min_width": null,
            "object_fit": null,
            "object_position": null,
            "order": null,
            "overflow": null,
            "overflow_x": null,
            "overflow_y": null,
            "padding": null,
            "right": null,
            "top": null,
            "visibility": null,
            "width": null
          }
        },
        "b8b673e359b647f4830288f9ab7e429f": {
          "model_module": "@jupyter-widgets/base",
          "model_name": "LayoutModel",
          "model_module_version": "1.2.0",
          "state": {
            "_model_module": "@jupyter-widgets/base",
            "_model_module_version": "1.2.0",
            "_model_name": "LayoutModel",
            "_view_count": null,
            "_view_module": "@jupyter-widgets/base",
            "_view_module_version": "1.2.0",
            "_view_name": "LayoutView",
            "align_content": null,
            "align_items": null,
            "align_self": null,
            "border": null,
            "bottom": null,
            "display": null,
            "flex": null,
            "flex_flow": null,
            "grid_area": null,
            "grid_auto_columns": null,
            "grid_auto_flow": null,
            "grid_auto_rows": null,
            "grid_column": null,
            "grid_gap": null,
            "grid_row": null,
            "grid_template_areas": null,
            "grid_template_columns": null,
            "grid_template_rows": null,
            "height": null,
            "justify_content": null,
            "justify_items": null,
            "left": null,
            "margin": null,
            "max_height": null,
            "max_width": null,
            "min_height": null,
            "min_width": null,
            "object_fit": null,
            "object_position": null,
            "order": null,
            "overflow": null,
            "overflow_x": null,
            "overflow_y": null,
            "padding": null,
            "right": null,
            "top": null,
            "visibility": null,
            "width": null
          }
        },
        "e09a9b2d93ee42da911737ea239cff78": {
          "model_module": "@jupyter-widgets/controls",
          "model_name": "DescriptionStyleModel",
          "model_module_version": "1.5.0",
          "state": {
            "_model_module": "@jupyter-widgets/controls",
            "_model_module_version": "1.5.0",
            "_model_name": "DescriptionStyleModel",
            "_view_count": null,
            "_view_module": "@jupyter-widgets/base",
            "_view_module_version": "1.2.0",
            "_view_name": "StyleView",
            "description_width": ""
          }
        },
        "11d84e2c9f474d0eae702b8f1231f136": {
          "model_module": "@jupyter-widgets/base",
          "model_name": "LayoutModel",
          "model_module_version": "1.2.0",
          "state": {
            "_model_module": "@jupyter-widgets/base",
            "_model_module_version": "1.2.0",
            "_model_name": "LayoutModel",
            "_view_count": null,
            "_view_module": "@jupyter-widgets/base",
            "_view_module_version": "1.2.0",
            "_view_name": "LayoutView",
            "align_content": null,
            "align_items": null,
            "align_self": null,
            "border": null,
            "bottom": null,
            "display": null,
            "flex": null,
            "flex_flow": null,
            "grid_area": null,
            "grid_auto_columns": null,
            "grid_auto_flow": null,
            "grid_auto_rows": null,
            "grid_column": null,
            "grid_gap": null,
            "grid_row": null,
            "grid_template_areas": null,
            "grid_template_columns": null,
            "grid_template_rows": null,
            "height": null,
            "justify_content": null,
            "justify_items": null,
            "left": null,
            "margin": null,
            "max_height": null,
            "max_width": null,
            "min_height": null,
            "min_width": null,
            "object_fit": null,
            "object_position": null,
            "order": null,
            "overflow": null,
            "overflow_x": null,
            "overflow_y": null,
            "padding": null,
            "right": null,
            "top": null,
            "visibility": null,
            "width": null
          }
        },
        "4a5cb240ef474381a38cd620af74077a": {
          "model_module": "@jupyter-widgets/controls",
          "model_name": "ProgressStyleModel",
          "model_module_version": "1.5.0",
          "state": {
            "_model_module": "@jupyter-widgets/controls",
            "_model_module_version": "1.5.0",
            "_model_name": "ProgressStyleModel",
            "_view_count": null,
            "_view_module": "@jupyter-widgets/base",
            "_view_module_version": "1.2.0",
            "_view_name": "StyleView",
            "bar_color": null,
            "description_width": ""
          }
        },
        "dbafb67eb1c6410cb2c74d98943030de": {
          "model_module": "@jupyter-widgets/base",
          "model_name": "LayoutModel",
          "model_module_version": "1.2.0",
          "state": {
            "_model_module": "@jupyter-widgets/base",
            "_model_module_version": "1.2.0",
            "_model_name": "LayoutModel",
            "_view_count": null,
            "_view_module": "@jupyter-widgets/base",
            "_view_module_version": "1.2.0",
            "_view_name": "LayoutView",
            "align_content": null,
            "align_items": null,
            "align_self": null,
            "border": null,
            "bottom": null,
            "display": null,
            "flex": null,
            "flex_flow": null,
            "grid_area": null,
            "grid_auto_columns": null,
            "grid_auto_flow": null,
            "grid_auto_rows": null,
            "grid_column": null,
            "grid_gap": null,
            "grid_row": null,
            "grid_template_areas": null,
            "grid_template_columns": null,
            "grid_template_rows": null,
            "height": null,
            "justify_content": null,
            "justify_items": null,
            "left": null,
            "margin": null,
            "max_height": null,
            "max_width": null,
            "min_height": null,
            "min_width": null,
            "object_fit": null,
            "object_position": null,
            "order": null,
            "overflow": null,
            "overflow_x": null,
            "overflow_y": null,
            "padding": null,
            "right": null,
            "top": null,
            "visibility": null,
            "width": null
          }
        },
        "5d8d040d39dd4db3aacdee1e9ba48705": {
          "model_module": "@jupyter-widgets/controls",
          "model_name": "DescriptionStyleModel",
          "model_module_version": "1.5.0",
          "state": {
            "_model_module": "@jupyter-widgets/controls",
            "_model_module_version": "1.5.0",
            "_model_name": "DescriptionStyleModel",
            "_view_count": null,
            "_view_module": "@jupyter-widgets/base",
            "_view_module_version": "1.2.0",
            "_view_name": "StyleView",
            "description_width": ""
          }
        },
        "754ec321d0a94434aa8600997cad7c61": {
          "model_module": "@jupyter-widgets/controls",
          "model_name": "HBoxModel",
          "model_module_version": "1.5.0",
          "state": {
            "_dom_classes": [],
            "_model_module": "@jupyter-widgets/controls",
            "_model_module_version": "1.5.0",
            "_model_name": "HBoxModel",
            "_view_count": null,
            "_view_module": "@jupyter-widgets/controls",
            "_view_module_version": "1.5.0",
            "_view_name": "HBoxView",
            "box_style": "",
            "children": [
              "IPY_MODEL_637765c920e44c2c9cdcba2eb6664704",
              "IPY_MODEL_7ad37a9eb3c049358e0f455dbcdbcf5c",
              "IPY_MODEL_224868713f6c40d6a6b61e15011e2cb3"
            ],
            "layout": "IPY_MODEL_7cd6d97e925b4e5c85e1d996cc8c9a9c"
          }
        },
        "637765c920e44c2c9cdcba2eb6664704": {
          "model_module": "@jupyter-widgets/controls",
          "model_name": "HTMLModel",
          "model_module_version": "1.5.0",
          "state": {
            "_dom_classes": [],
            "_model_module": "@jupyter-widgets/controls",
            "_model_module_version": "1.5.0",
            "_model_name": "HTMLModel",
            "_view_count": null,
            "_view_module": "@jupyter-widgets/controls",
            "_view_module_version": "1.5.0",
            "_view_name": "HTMLView",
            "description": "",
            "description_tooltip": null,
            "layout": "IPY_MODEL_dbec3afdd71f411c819875411de3d33a",
            "placeholder": "​",
            "style": "IPY_MODEL_034761131b414908a77f6f825a0d8bda",
            "value": "Downloading pytorch_model.bin: 100%"
          }
        },
        "7ad37a9eb3c049358e0f455dbcdbcf5c": {
          "model_module": "@jupyter-widgets/controls",
          "model_name": "FloatProgressModel",
          "model_module_version": "1.5.0",
          "state": {
            "_dom_classes": [],
            "_model_module": "@jupyter-widgets/controls",
            "_model_module_version": "1.5.0",
            "_model_name": "FloatProgressModel",
            "_view_count": null,
            "_view_module": "@jupyter-widgets/controls",
            "_view_module_version": "1.5.0",
            "_view_name": "ProgressView",
            "bar_style": "success",
            "description": "",
            "description_tooltip": null,
            "layout": "IPY_MODEL_af7d6b3d48df4c7fb114cdc5db541d07",
            "max": 346351599,
            "min": 0,
            "orientation": "horizontal",
            "style": "IPY_MODEL_c7aadff240d14310abe67c2393f7fc25",
            "value": 346351599
          }
        },
        "224868713f6c40d6a6b61e15011e2cb3": {
          "model_module": "@jupyter-widgets/controls",
          "model_name": "HTMLModel",
          "model_module_version": "1.5.0",
          "state": {
            "_dom_classes": [],
            "_model_module": "@jupyter-widgets/controls",
            "_model_module_version": "1.5.0",
            "_model_name": "HTMLModel",
            "_view_count": null,
            "_view_module": "@jupyter-widgets/controls",
            "_view_module_version": "1.5.0",
            "_view_name": "HTMLView",
            "description": "",
            "description_tooltip": null,
            "layout": "IPY_MODEL_6ff712196a734771a8c5c3649ae68dc9",
            "placeholder": "​",
            "style": "IPY_MODEL_cec7ec6916344ba8b72a3377bec5284c",
            "value": " 346M/346M [00:01&lt;00:00, 303MB/s]"
          }
        },
        "7cd6d97e925b4e5c85e1d996cc8c9a9c": {
          "model_module": "@jupyter-widgets/base",
          "model_name": "LayoutModel",
          "model_module_version": "1.2.0",
          "state": {
            "_model_module": "@jupyter-widgets/base",
            "_model_module_version": "1.2.0",
            "_model_name": "LayoutModel",
            "_view_count": null,
            "_view_module": "@jupyter-widgets/base",
            "_view_module_version": "1.2.0",
            "_view_name": "LayoutView",
            "align_content": null,
            "align_items": null,
            "align_self": null,
            "border": null,
            "bottom": null,
            "display": null,
            "flex": null,
            "flex_flow": null,
            "grid_area": null,
            "grid_auto_columns": null,
            "grid_auto_flow": null,
            "grid_auto_rows": null,
            "grid_column": null,
            "grid_gap": null,
            "grid_row": null,
            "grid_template_areas": null,
            "grid_template_columns": null,
            "grid_template_rows": null,
            "height": null,
            "justify_content": null,
            "justify_items": null,
            "left": null,
            "margin": null,
            "max_height": null,
            "max_width": null,
            "min_height": null,
            "min_width": null,
            "object_fit": null,
            "object_position": null,
            "order": null,
            "overflow": null,
            "overflow_x": null,
            "overflow_y": null,
            "padding": null,
            "right": null,
            "top": null,
            "visibility": null,
            "width": null
          }
        },
        "dbec3afdd71f411c819875411de3d33a": {
          "model_module": "@jupyter-widgets/base",
          "model_name": "LayoutModel",
          "model_module_version": "1.2.0",
          "state": {
            "_model_module": "@jupyter-widgets/base",
            "_model_module_version": "1.2.0",
            "_model_name": "LayoutModel",
            "_view_count": null,
            "_view_module": "@jupyter-widgets/base",
            "_view_module_version": "1.2.0",
            "_view_name": "LayoutView",
            "align_content": null,
            "align_items": null,
            "align_self": null,
            "border": null,
            "bottom": null,
            "display": null,
            "flex": null,
            "flex_flow": null,
            "grid_area": null,
            "grid_auto_columns": null,
            "grid_auto_flow": null,
            "grid_auto_rows": null,
            "grid_column": null,
            "grid_gap": null,
            "grid_row": null,
            "grid_template_areas": null,
            "grid_template_columns": null,
            "grid_template_rows": null,
            "height": null,
            "justify_content": null,
            "justify_items": null,
            "left": null,
            "margin": null,
            "max_height": null,
            "max_width": null,
            "min_height": null,
            "min_width": null,
            "object_fit": null,
            "object_position": null,
            "order": null,
            "overflow": null,
            "overflow_x": null,
            "overflow_y": null,
            "padding": null,
            "right": null,
            "top": null,
            "visibility": null,
            "width": null
          }
        },
        "034761131b414908a77f6f825a0d8bda": {
          "model_module": "@jupyter-widgets/controls",
          "model_name": "DescriptionStyleModel",
          "model_module_version": "1.5.0",
          "state": {
            "_model_module": "@jupyter-widgets/controls",
            "_model_module_version": "1.5.0",
            "_model_name": "DescriptionStyleModel",
            "_view_count": null,
            "_view_module": "@jupyter-widgets/base",
            "_view_module_version": "1.2.0",
            "_view_name": "StyleView",
            "description_width": ""
          }
        },
        "af7d6b3d48df4c7fb114cdc5db541d07": {
          "model_module": "@jupyter-widgets/base",
          "model_name": "LayoutModel",
          "model_module_version": "1.2.0",
          "state": {
            "_model_module": "@jupyter-widgets/base",
            "_model_module_version": "1.2.0",
            "_model_name": "LayoutModel",
            "_view_count": null,
            "_view_module": "@jupyter-widgets/base",
            "_view_module_version": "1.2.0",
            "_view_name": "LayoutView",
            "align_content": null,
            "align_items": null,
            "align_self": null,
            "border": null,
            "bottom": null,
            "display": null,
            "flex": null,
            "flex_flow": null,
            "grid_area": null,
            "grid_auto_columns": null,
            "grid_auto_flow": null,
            "grid_auto_rows": null,
            "grid_column": null,
            "grid_gap": null,
            "grid_row": null,
            "grid_template_areas": null,
            "grid_template_columns": null,
            "grid_template_rows": null,
            "height": null,
            "justify_content": null,
            "justify_items": null,
            "left": null,
            "margin": null,
            "max_height": null,
            "max_width": null,
            "min_height": null,
            "min_width": null,
            "object_fit": null,
            "object_position": null,
            "order": null,
            "overflow": null,
            "overflow_x": null,
            "overflow_y": null,
            "padding": null,
            "right": null,
            "top": null,
            "visibility": null,
            "width": null
          }
        },
        "c7aadff240d14310abe67c2393f7fc25": {
          "model_module": "@jupyter-widgets/controls",
          "model_name": "ProgressStyleModel",
          "model_module_version": "1.5.0",
          "state": {
            "_model_module": "@jupyter-widgets/controls",
            "_model_module_version": "1.5.0",
            "_model_name": "ProgressStyleModel",
            "_view_count": null,
            "_view_module": "@jupyter-widgets/base",
            "_view_module_version": "1.2.0",
            "_view_name": "StyleView",
            "bar_color": null,
            "description_width": ""
          }
        },
        "6ff712196a734771a8c5c3649ae68dc9": {
          "model_module": "@jupyter-widgets/base",
          "model_name": "LayoutModel",
          "model_module_version": "1.2.0",
          "state": {
            "_model_module": "@jupyter-widgets/base",
            "_model_module_version": "1.2.0",
            "_model_name": "LayoutModel",
            "_view_count": null,
            "_view_module": "@jupyter-widgets/base",
            "_view_module_version": "1.2.0",
            "_view_name": "LayoutView",
            "align_content": null,
            "align_items": null,
            "align_self": null,
            "border": null,
            "bottom": null,
            "display": null,
            "flex": null,
            "flex_flow": null,
            "grid_area": null,
            "grid_auto_columns": null,
            "grid_auto_flow": null,
            "grid_auto_rows": null,
            "grid_column": null,
            "grid_gap": null,
            "grid_row": null,
            "grid_template_areas": null,
            "grid_template_columns": null,
            "grid_template_rows": null,
            "height": null,
            "justify_content": null,
            "justify_items": null,
            "left": null,
            "margin": null,
            "max_height": null,
            "max_width": null,
            "min_height": null,
            "min_width": null,
            "object_fit": null,
            "object_position": null,
            "order": null,
            "overflow": null,
            "overflow_x": null,
            "overflow_y": null,
            "padding": null,
            "right": null,
            "top": null,
            "visibility": null,
            "width": null
          }
        },
        "cec7ec6916344ba8b72a3377bec5284c": {
          "model_module": "@jupyter-widgets/controls",
          "model_name": "DescriptionStyleModel",
          "model_module_version": "1.5.0",
          "state": {
            "_model_module": "@jupyter-widgets/controls",
            "_model_module_version": "1.5.0",
            "_model_name": "DescriptionStyleModel",
            "_view_count": null,
            "_view_module": "@jupyter-widgets/base",
            "_view_module_version": "1.2.0",
            "_view_name": "StyleView",
            "description_width": ""
          }
        }
      }
    }
  },
  "nbformat": 4,
  "nbformat_minor": 0
}